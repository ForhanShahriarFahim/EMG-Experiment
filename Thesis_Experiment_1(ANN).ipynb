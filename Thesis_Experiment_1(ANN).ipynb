{
  "nbformat": 4,
  "nbformat_minor": 0,
  "metadata": {
    "colab": {
      "provenance": []
    },
    "kernelspec": {
      "name": "python3",
      "display_name": "Python 3"
    },
    "language_info": {
      "name": "python"
    }
  },
  "cells": [
    {
      "cell_type": "code",
      "execution_count": null,
      "metadata": {
        "id": "8R-l1HowKpvd"
      },
      "outputs": [],
      "source": [
        "#pip install libemg"
      ]
    },
    {
      "cell_type": "code",
      "source": [
        "#pip install pandas"
      ],
      "metadata": {
        "id": "_XI2QpqSf1Sz"
      },
      "execution_count": null,
      "outputs": []
    },
    {
      "cell_type": "code",
      "source": [
        "import numpy as np\n",
        "import matplotlib.pyplot as plt\n",
        "import scipy.io as scipyio\n",
        "import seaborn as sns\n",
        "import pandas as pd\n",
        "from google.colab import drive\n",
        "import os"
      ],
      "metadata": {
        "id": "rLw7z2QKf38C"
      },
      "execution_count": null,
      "outputs": []
    },
    {
      "cell_type": "code",
      "source": [
        "drive.mount('/content/gdrive')"
      ],
      "metadata": {
        "colab": {
          "base_uri": "https://localhost:8080/"
        },
        "id": "JiX5G3kpf6mz",
        "outputId": "d9b1f83d-47b4-412c-8eea-36486d271fa3"
      },
      "execution_count": null,
      "outputs": [
        {
          "output_type": "stream",
          "name": "stdout",
          "text": [
            "Drive already mounted at /content/gdrive; to attempt to forcibly remount, call drive.mount(\"/content/gdrive\", force_remount=True).\n"
          ]
        }
      ]
    },
    {
      "cell_type": "code",
      "source": [
        "gestures_label = {\n",
        "\t 'Ball' : 0,\n",
        "\t 'Ind' : 1,\n",
        "\t 'LRMI' : 2,\n",
        "\t 'Th' : 3,\n",
        "\t 'ThInd' : 4,\n",
        "\t 'ThIndMid' : 5,\n",
        "}\n",
        "\n",
        "gestures = ['Ball', 'Ind', 'LRMI', 'Th', 'ThInd', 'ThIndMid']"
      ],
      "metadata": {
        "id": "pV9FE5k3f9nD"
      },
      "execution_count": null,
      "outputs": []
    },
    {
      "cell_type": "code",
      "source": [
        "\n",
        "persons = [\"A1_Force Exp\", \"A2_Force Exp\", \"A3_Force Exp\", \"A4_Force Exp\", \"A5_Force Exp\", \"A6_Force Exp\", \"A7_Force Exp\", \"A8_Force Exp\",\"A9_Force Exp\"]\n",
        "#persons = [\"A1_Force Exp\"]"
      ],
      "metadata": {
        "id": "7cFyMhmDm5cH"
      },
      "execution_count": null,
      "outputs": []
    },
    {
      "cell_type": "code",
      "source": [
        "force_levels = [\"Ball\", \"Ind\", \"LRMI\", \"Th\",\"ThInd\", \"ThIndMid\",]"
      ],
      "metadata": {
        "id": "t64eJDIascC3"
      },
      "execution_count": null,
      "outputs": []
    },
    {
      "cell_type": "code",
      "source": [
        "\n",
        "def get_gesture_label(filename,input_string, gestures):\n",
        "    gesture = max((gesture for gesture in gestures if gesture in filename), key=len, default=None)\n",
        "    #print(filename, gesture, gestures_label[gesture])\n",
        "    return gestures_label[gesture]\n",
        "\n",
        "\n"
      ],
      "metadata": {
        "id": "XBGRBMevoiss"
      },
      "execution_count": null,
      "outputs": []
    },
    {
      "cell_type": "code",
      "source": [
        "\n",
        "def read_dataset(root_datapath, persons, force_level):\n",
        "  x = []\n",
        "  y = []\n",
        "  for person in persons:\n",
        "    count = 0\n",
        "    for force in force_levels:\n",
        "      person_folder_path = root_datapath + \"/\" + person + \"/\" + force_level + \"/\" + force+'_'+force_level.lower()\n",
        "      #print(person_folder_path)\n",
        "      for root, dirs, files in os.walk(person_folder_path, topdown=False):\n",
        "        for file in files:\n",
        "            count = count + 1\n",
        "            matdata = scipyio.loadmat(os.path.join(person_folder_path, file))\n",
        "            last_key = list(matdata.keys())[-1]\n",
        "            last_value = matdata[last_key]\n",
        "            x.append(last_value)\n",
        "            #print(file, get_gesture_label(file, gestures, gestures_label))\n",
        "            y.append(get_gesture_label(file, gestures, gestures_label))\n",
        "    print(person + f\" : {count}\")\n",
        "  x = np.array(x)\n",
        "  y = np.array(y)\n",
        "  return x, y"
      ],
      "metadata": {
        "id": "gHIyg9Pnovmc"
      },
      "execution_count": null,
      "outputs": []
    },
    {
      "cell_type": "code",
      "source": [
        "\n",
        "filepath = \"/content/gdrive/MyDrive/TNSRE paper EMG dataset\""
      ],
      "metadata": {
        "id": "2Jr_68G-ozjW"
      },
      "execution_count": null,
      "outputs": []
    },
    {
      "cell_type": "code",
      "source": [
        "# rest_x, rest_y = read_dataset(filepath, persons, \"Rest\")\n",
        "# pronation_x, pronation_y = read_dataset(filepath, persons, \"Pronation\")\n",
        "high_x, high_y = read_dataset(filepath, persons, \"High\")\n"
      ],
      "metadata": {
        "colab": {
          "base_uri": "https://localhost:8080/"
        },
        "id": "ao382-xcpJyn",
        "outputId": "1af40547-1d4e-4b53-9257-bde832971d3c"
      },
      "execution_count": null,
      "outputs": [
        {
          "output_type": "stream",
          "name": "stdout",
          "text": [
            "A1_Force Exp : 30\n",
            "A2_Force Exp : 42\n",
            "A3_Force Exp : 34\n",
            "A4_Force Exp : 30\n",
            "A5_Force Exp : 31\n",
            "A6_Force Exp : 36\n",
            "A7_Force Exp : 39\n",
            "A8_Force Exp : 47\n",
            "A9_Force Exp : 44\n"
          ]
        },
        {
          "output_type": "stream",
          "name": "stderr",
          "text": [
            "<ipython-input-14-f8d1cdb90881>:22: VisibleDeprecationWarning: Creating an ndarray from ragged nested sequences (which is a list-or-tuple of lists-or-tuples-or ndarrays with different lengths or shapes) is deprecated. If you meant to do this, you must specify 'dtype=object' when creating the ndarray.\n",
            "  x = np.array(x)\n"
          ]
        }
      ]
    },
    {
      "cell_type": "code",
      "source": [
        "# matdata = scipyio.loadmat(\"/content/gdrive/MyDrive/TNSRE paper EMG dataset/A1_Force Exp/High/Ball_high/A1_Ball_high_t3.mat\")\n",
        "# last_key = list(matdata.keys())[-1]\n",
        "# print(matdata[last_key])"
      ],
      "metadata": {
        "id": "Ijubq4IG2cgO"
      },
      "execution_count": null,
      "outputs": []
    },
    {
      "cell_type": "code",
      "source": [
        "\n",
        "#print(rest_x.shape, rest_y.shape)\n",
        "print(high_x.shape, high_y.shape)\n",
        "#print(pronation_x.shape, pronation_y.shape)"
      ],
      "metadata": {
        "colab": {
          "base_uri": "https://localhost:8080/"
        },
        "id": "faiE0ifI-4cR",
        "outputId": "c04c2ce2-a8a0-4208-941b-3816e4d54907"
      },
      "execution_count": null,
      "outputs": [
        {
          "output_type": "stream",
          "name": "stdout",
          "text": [
            "(333,) (333,)\n"
          ]
        }
      ]
    },
    {
      "cell_type": "code",
      "source": [
        "from sklearn.model_selection import train_test_split\n",
        "x_train, x_test, y_train, y_test = train_test_split(\n",
        "    high_x,high_y,\n",
        "    test_size = .2, shuffle=True, random_state=0\n",
        ")\n"
      ],
      "metadata": {
        "id": "6eAFohVeCob_"
      },
      "execution_count": null,
      "outputs": []
    },
    {
      "cell_type": "code",
      "source": [
        "\n",
        "x_train.shape\n"
      ],
      "metadata": {
        "colab": {
          "base_uri": "https://localhost:8080/"
        },
        "id": "Ug-lyeaaLU4a",
        "outputId": "770a902e-f7f7-48bd-f505-9e226ae6a5cf"
      },
      "execution_count": null,
      "outputs": [
        {
          "output_type": "execute_result",
          "data": {
            "text/plain": [
              "(266,)"
            ]
          },
          "metadata": {},
          "execution_count": 27
        }
      ]
    },
    {
      "cell_type": "code",
      "source": [
        "import numpy as np\n",
        "import tensorflow as tf\n",
        "from tensorflow.keras import layers, models\n",
        "from sklearn.model_selection import train_test_split\n",
        "\n",
        "# Assuming high_x and high_y are your input and target arrays\n",
        "# Replace the following lines with your actual data\n",
        "high_x = np.random.rand(333, 8000)  # Assuming 8000 features per data point\n",
        "high_y = np.random.randint(6, size=333)  # Assuming 6 classes (gestures)\n",
        "\n",
        "# Split the data into training and testing sets\n",
        "x_train, x_test, y_train, y_test = train_test_split(high_x, high_y, test_size=0.2, random_state=42)\n",
        "\n",
        "# Build a simple ANN model\n",
        "model = models.Sequential([\n",
        "    layers.Flatten(input_shape=(8000,)),  # Flatten layer for reshaping the input\n",
        "    layers.Dense(64, activation='relu'),\n",
        "    layers.Dropout(0.2),\n",
        "    layers.Dense(32, activation='relu'),\n",
        "    layers.Dropout(0.2),\n",
        "    layers.Dense(6, activation='softmax')  # Using softmax activation for multi-class classification\n",
        "])\n",
        "\n",
        "# Compile the model\n",
        "model.compile(optimizer='adam', loss='sparse_categorical_crossentropy', metrics=['accuracy'])\n",
        "\n",
        "# Train the model\n",
        "model.fit(x_train, y_train, epochs=15, batch_size=32, validation_data=(x_test, y_test))\n"
      ],
      "metadata": {
        "id": "bPHZ_GJZP3nT",
        "colab": {
          "base_uri": "https://localhost:8080/"
        },
        "outputId": "abb0687b-7a5e-4fff-a218-35dc93f3a6f3"
      },
      "execution_count": null,
      "outputs": [
        {
          "output_type": "stream",
          "name": "stdout",
          "text": [
            "Epoch 1/15\n",
            "9/9 [==============================] - 1s 34ms/step - loss: 2.4360 - accuracy: 0.1353 - val_loss: 2.1433 - val_accuracy: 0.1940\n",
            "Epoch 2/15\n",
            "9/9 [==============================] - 0s 13ms/step - loss: 2.1241 - accuracy: 0.2105 - val_loss: 1.8866 - val_accuracy: 0.1343\n",
            "Epoch 3/15\n",
            "9/9 [==============================] - 0s 16ms/step - loss: 1.8211 - accuracy: 0.2406 - val_loss: 1.8299 - val_accuracy: 0.2090\n",
            "Epoch 4/15\n",
            "9/9 [==============================] - 0s 12ms/step - loss: 1.7845 - accuracy: 0.2030 - val_loss: 1.8669 - val_accuracy: 0.1045\n",
            "Epoch 5/15\n",
            "9/9 [==============================] - 0s 13ms/step - loss: 1.7482 - accuracy: 0.2481 - val_loss: 1.8152 - val_accuracy: 0.1642\n",
            "Epoch 6/15\n",
            "9/9 [==============================] - 0s 13ms/step - loss: 1.7471 - accuracy: 0.2218 - val_loss: 1.8408 - val_accuracy: 0.1045\n",
            "Epoch 7/15\n",
            "9/9 [==============================] - 0s 13ms/step - loss: 1.7623 - accuracy: 0.2143 - val_loss: 1.7885 - val_accuracy: 0.1343\n",
            "Epoch 8/15\n",
            "9/9 [==============================] - 0s 15ms/step - loss: 1.7582 - accuracy: 0.2218 - val_loss: 1.7935 - val_accuracy: 0.2388\n",
            "Epoch 9/15\n",
            "9/9 [==============================] - 0s 14ms/step - loss: 1.7372 - accuracy: 0.2481 - val_loss: 1.8125 - val_accuracy: 0.1940\n",
            "Epoch 10/15\n",
            "9/9 [==============================] - 0s 13ms/step - loss: 1.7299 - accuracy: 0.2556 - val_loss: 1.7997 - val_accuracy: 0.2537\n",
            "Epoch 11/15\n",
            "9/9 [==============================] - 0s 14ms/step - loss: 1.7211 - accuracy: 0.2218 - val_loss: 1.8046 - val_accuracy: 0.1343\n",
            "Epoch 12/15\n",
            "9/9 [==============================] - 0s 14ms/step - loss: 1.6901 - accuracy: 0.3083 - val_loss: 1.7990 - val_accuracy: 0.1642\n",
            "Epoch 13/15\n",
            "9/9 [==============================] - 0s 13ms/step - loss: 1.6648 - accuracy: 0.2707 - val_loss: 1.8002 - val_accuracy: 0.1493\n",
            "Epoch 14/15\n",
            "9/9 [==============================] - 0s 14ms/step - loss: 1.6265 - accuracy: 0.3421 - val_loss: 1.8201 - val_accuracy: 0.1343\n",
            "Epoch 15/15\n",
            "9/9 [==============================] - 0s 12ms/step - loss: 1.5912 - accuracy: 0.3158 - val_loss: 1.8025 - val_accuracy: 0.2090\n"
          ]
        },
        {
          "output_type": "execute_result",
          "data": {
            "text/plain": [
              "<keras.src.callbacks.History at 0x782658365480>"
            ]
          },
          "metadata": {},
          "execution_count": 52
        }
      ]
    },
    {
      "cell_type": "code",
      "source": [
        "\n",
        "\n",
        "# Evaluate the model on the test set\n",
        "eval_results = model.evaluate(x_test, y_test)\n",
        "\n",
        "# Print the evaluation results\n",
        "print(f\"Test Loss: {eval_results[0]}\")\n",
        "print(f\"Test Accuracy: {eval_results[1]}\")\n"
      ],
      "metadata": {
        "colab": {
          "base_uri": "https://localhost:8080/"
        },
        "id": "ATuMANvnn1_l",
        "outputId": "82f1d4a4-9dd9-4e0c-9275-ff956bcbe253"
      },
      "execution_count": null,
      "outputs": [
        {
          "output_type": "stream",
          "name": "stdout",
          "text": [
            "3/3 [==============================] - 0s 8ms/step - loss: 1.8025 - accuracy: 0.2090\n",
            "Test Loss: 1.8024526834487915\n",
            "Test Accuracy: 0.20895522832870483\n"
          ]
        }
      ]
    },
    {
      "cell_type": "code",
      "source": [
        "model.evaluate(high_x, high_y)"
      ],
      "metadata": {
        "colab": {
          "base_uri": "https://localhost:8080/"
        },
        "id": "CjocqZy4oJMI",
        "outputId": "65d6ced1-d4f5-4143-c7de-88d24a37c9a0"
      },
      "execution_count": null,
      "outputs": [
        {
          "output_type": "stream",
          "name": "stdout",
          "text": [
            "11/11 [==============================] - 0s 10ms/step - loss: 1.6017 - accuracy: 0.3814\n"
          ]
        },
        {
          "output_type": "execute_result",
          "data": {
            "text/plain": [
              "[1.6017112731933594, 0.38138139247894287]"
            ]
          },
          "metadata": {},
          "execution_count": 55
        }
      ]
    },
    {
      "cell_type": "code",
      "source": [
        "from sklearn.metrics import classification_report\n",
        "\n",
        "# Assuming you have already trained the model, and now you want to generate a classification report\n",
        "# (Make sure to replace x_test and y_test with your actual test data)\n",
        "\n",
        "# Make predictions on the test set\n",
        "y_pred = model.predict(x_test)\n",
        "y_pred_classes = np.argmax(y_pred, axis=1)\n",
        "\n",
        "# Print the classification report\n",
        "print(classification_report(y_test, y_pred_classes))\n"
      ],
      "metadata": {
        "colab": {
          "base_uri": "https://localhost:8080/"
        },
        "id": "9R6JhkOZoh07",
        "outputId": "865fde4c-8f7f-41b8-f9c1-eeb8f8646cb9"
      },
      "execution_count": null,
      "outputs": [
        {
          "output_type": "stream",
          "name": "stdout",
          "text": [
            "3/3 [==============================] - 0s 5ms/step\n",
            "              precision    recall  f1-score   support\n",
            "\n",
            "           0       0.29      0.67      0.40        15\n",
            "           1       0.00      0.00      0.00        13\n",
            "           2       0.12      0.33      0.17         9\n",
            "           3       0.00      0.00      0.00        13\n",
            "           4       0.00      0.00      0.00         7\n",
            "           5       0.17      0.10      0.12        10\n",
            "\n",
            "    accuracy                           0.21        67\n",
            "   macro avg       0.09      0.18      0.12        67\n",
            "weighted avg       0.10      0.21      0.13        67\n",
            "\n"
          ]
        },
        {
          "output_type": "stream",
          "name": "stderr",
          "text": [
            "/usr/local/lib/python3.10/dist-packages/sklearn/metrics/_classification.py:1344: UndefinedMetricWarning: Precision and F-score are ill-defined and being set to 0.0 in labels with no predicted samples. Use `zero_division` parameter to control this behavior.\n",
            "  _warn_prf(average, modifier, msg_start, len(result))\n",
            "/usr/local/lib/python3.10/dist-packages/sklearn/metrics/_classification.py:1344: UndefinedMetricWarning: Precision and F-score are ill-defined and being set to 0.0 in labels with no predicted samples. Use `zero_division` parameter to control this behavior.\n",
            "  _warn_prf(average, modifier, msg_start, len(result))\n",
            "/usr/local/lib/python3.10/dist-packages/sklearn/metrics/_classification.py:1344: UndefinedMetricWarning: Precision and F-score are ill-defined and being set to 0.0 in labels with no predicted samples. Use `zero_division` parameter to control this behavior.\n",
            "  _warn_prf(average, modifier, msg_start, len(result))\n"
          ]
        }
      ]
    },
    {
      "cell_type": "code",
      "source": [
        "import matplotlib.pyplot as plt\n",
        "\n",
        "# Assuming you have already trained the model\n",
        "history = model.fit(x_train, y_train, epochs=100, batch_size=32, validation_data=(x_test, y_test))\n",
        "\n",
        "# Plot training and validation accuracy\n",
        "plt.figure(figsize=(12, 5))\n",
        "plt.subplot(1, 2, 1)\n",
        "plt.plot(history.history['accuracy'], label='Training Accuracy')\n",
        "plt.plot(history.history['val_accuracy'], label='Validation Accuracy')\n",
        "plt.title('Training and Validation Accuracy')\n",
        "plt.xlabel('Epoch')\n",
        "plt.ylabel('Accuracy')\n",
        "plt.legend()\n",
        "\n",
        "# Plot training and validation loss\n",
        "plt.subplot(1, 2, 2)\n",
        "plt.plot(history.history['loss'], label='Training Loss')\n",
        "plt.plot(history.history['val_loss'], label='Validation Loss')\n",
        "plt.title('Training and Validation Loss')\n",
        "plt.xlabel('Epoch')\n",
        "plt.ylabel('Loss')\n",
        "plt.legend()\n",
        "\n",
        "plt.show()\n"
      ],
      "metadata": {
        "colab": {
          "base_uri": "https://localhost:8080/",
          "height": 1000
        },
        "id": "SjmGq-uaoiYz",
        "outputId": "3c88df7e-0691-4746-c41c-ae9ddf87df23"
      },
      "execution_count": null,
      "outputs": [
        {
          "output_type": "stream",
          "name": "stdout",
          "text": [
            "Epoch 1/100\n",
            "9/9 [==============================] - 0s 39ms/step - loss: 0.9803 - accuracy: 0.6090 - val_loss: 2.1502 - val_accuracy: 0.1642\n",
            "Epoch 2/100\n",
            "9/9 [==============================] - 0s 29ms/step - loss: 1.0178 - accuracy: 0.6316 - val_loss: 2.2404 - val_accuracy: 0.1642\n",
            "Epoch 3/100\n",
            "9/9 [==============================] - 0s 29ms/step - loss: 0.9668 - accuracy: 0.5752 - val_loss: 2.1945 - val_accuracy: 0.1642\n",
            "Epoch 4/100\n",
            "9/9 [==============================] - 0s 20ms/step - loss: 0.9897 - accuracy: 0.5414 - val_loss: 2.1000 - val_accuracy: 0.1791\n",
            "Epoch 5/100\n",
            "9/9 [==============================] - 0s 19ms/step - loss: 0.9710 - accuracy: 0.5789 - val_loss: 1.9814 - val_accuracy: 0.1045\n",
            "Epoch 6/100\n",
            "9/9 [==============================] - 0s 21ms/step - loss: 0.9023 - accuracy: 0.5940 - val_loss: 2.1149 - val_accuracy: 0.1791\n",
            "Epoch 7/100\n",
            "9/9 [==============================] - 0s 35ms/step - loss: 0.9406 - accuracy: 0.6541 - val_loss: 2.0023 - val_accuracy: 0.1194\n",
            "Epoch 8/100\n",
            "9/9 [==============================] - 0s 26ms/step - loss: 0.8809 - accuracy: 0.6391 - val_loss: 2.0994 - val_accuracy: 0.1493\n",
            "Epoch 9/100\n",
            "9/9 [==============================] - 0s 28ms/step - loss: 0.9801 - accuracy: 0.6090 - val_loss: 2.2985 - val_accuracy: 0.1493\n",
            "Epoch 10/100\n",
            "9/9 [==============================] - 0s 12ms/step - loss: 0.9580 - accuracy: 0.6278 - val_loss: 2.0828 - val_accuracy: 0.1194\n",
            "Epoch 11/100\n",
            "9/9 [==============================] - 0s 16ms/step - loss: 0.8693 - accuracy: 0.6429 - val_loss: 2.0970 - val_accuracy: 0.0896\n",
            "Epoch 12/100\n",
            "9/9 [==============================] - 0s 22ms/step - loss: 0.8885 - accuracy: 0.6541 - val_loss: 2.1522 - val_accuracy: 0.1493\n",
            "Epoch 13/100\n",
            "9/9 [==============================] - 0s 20ms/step - loss: 0.8525 - accuracy: 0.6617 - val_loss: 2.0682 - val_accuracy: 0.1045\n",
            "Epoch 14/100\n",
            "9/9 [==============================] - 0s 26ms/step - loss: 0.8209 - accuracy: 0.6917 - val_loss: 2.1988 - val_accuracy: 0.1343\n",
            "Epoch 15/100\n",
            "9/9 [==============================] - 0s 26ms/step - loss: 0.8407 - accuracy: 0.6805 - val_loss: 2.3248 - val_accuracy: 0.1343\n",
            "Epoch 16/100\n",
            "9/9 [==============================] - 0s 22ms/step - loss: 0.8687 - accuracy: 0.6541 - val_loss: 2.1736 - val_accuracy: 0.1343\n",
            "Epoch 17/100\n",
            "9/9 [==============================] - 0s 24ms/step - loss: 0.7779 - accuracy: 0.7030 - val_loss: 2.4709 - val_accuracy: 0.1940\n",
            "Epoch 18/100\n",
            "9/9 [==============================] - 0s 26ms/step - loss: 0.8825 - accuracy: 0.6692 - val_loss: 2.4496 - val_accuracy: 0.1642\n",
            "Epoch 19/100\n",
            "9/9 [==============================] - 0s 19ms/step - loss: 0.7843 - accuracy: 0.6842 - val_loss: 2.2428 - val_accuracy: 0.1343\n",
            "Epoch 20/100\n",
            "9/9 [==============================] - 0s 20ms/step - loss: 0.9655 - accuracy: 0.6316 - val_loss: 2.9219 - val_accuracy: 0.1791\n",
            "Epoch 21/100\n",
            "9/9 [==============================] - 0s 25ms/step - loss: 0.8576 - accuracy: 0.6466 - val_loss: 2.0345 - val_accuracy: 0.1194\n",
            "Epoch 22/100\n",
            "9/9 [==============================] - 0s 21ms/step - loss: 0.8029 - accuracy: 0.6805 - val_loss: 2.4948 - val_accuracy: 0.1642\n",
            "Epoch 23/100\n",
            "9/9 [==============================] - 0s 21ms/step - loss: 0.8704 - accuracy: 0.6391 - val_loss: 2.2660 - val_accuracy: 0.1642\n",
            "Epoch 24/100\n",
            "9/9 [==============================] - 0s 20ms/step - loss: 0.8506 - accuracy: 0.6805 - val_loss: 2.3336 - val_accuracy: 0.1791\n",
            "Epoch 25/100\n",
            "9/9 [==============================] - 0s 17ms/step - loss: 0.7670 - accuracy: 0.7068 - val_loss: 2.3762 - val_accuracy: 0.1493\n",
            "Epoch 26/100\n",
            "9/9 [==============================] - 0s 17ms/step - loss: 0.7602 - accuracy: 0.6767 - val_loss: 2.4863 - val_accuracy: 0.1493\n",
            "Epoch 27/100\n",
            "9/9 [==============================] - 0s 29ms/step - loss: 0.8381 - accuracy: 0.6842 - val_loss: 2.5915 - val_accuracy: 0.1791\n",
            "Epoch 28/100\n",
            "9/9 [==============================] - 0s 26ms/step - loss: 0.7856 - accuracy: 0.6842 - val_loss: 2.4689 - val_accuracy: 0.1045\n",
            "Epoch 29/100\n",
            "9/9 [==============================] - 0s 22ms/step - loss: 0.7844 - accuracy: 0.6767 - val_loss: 2.6303 - val_accuracy: 0.1642\n",
            "Epoch 30/100\n",
            "9/9 [==============================] - 0s 18ms/step - loss: 0.8234 - accuracy: 0.6466 - val_loss: 2.6217 - val_accuracy: 0.1642\n",
            "Epoch 31/100\n",
            "9/9 [==============================] - 0s 20ms/step - loss: 0.6353 - accuracy: 0.7444 - val_loss: 2.1792 - val_accuracy: 0.1194\n",
            "Epoch 32/100\n",
            "9/9 [==============================] - 0s 22ms/step - loss: 0.7194 - accuracy: 0.7180 - val_loss: 2.7289 - val_accuracy: 0.1493\n",
            "Epoch 33/100\n",
            "9/9 [==============================] - 0s 18ms/step - loss: 0.7686 - accuracy: 0.6767 - val_loss: 2.7752 - val_accuracy: 0.0746\n",
            "Epoch 34/100\n",
            "9/9 [==============================] - 0s 19ms/step - loss: 0.8047 - accuracy: 0.6729 - val_loss: 2.3587 - val_accuracy: 0.1343\n",
            "Epoch 35/100\n",
            "9/9 [==============================] - 0s 18ms/step - loss: 0.8499 - accuracy: 0.6541 - val_loss: 2.3896 - val_accuracy: 0.0896\n",
            "Epoch 36/100\n",
            "9/9 [==============================] - 0s 18ms/step - loss: 0.8122 - accuracy: 0.6579 - val_loss: 2.9487 - val_accuracy: 0.1493\n",
            "Epoch 37/100\n",
            "9/9 [==============================] - 0s 20ms/step - loss: 0.7841 - accuracy: 0.6805 - val_loss: 2.2926 - val_accuracy: 0.1343\n",
            "Epoch 38/100\n",
            "9/9 [==============================] - 0s 19ms/step - loss: 0.7504 - accuracy: 0.7218 - val_loss: 2.4723 - val_accuracy: 0.1642\n",
            "Epoch 39/100\n",
            "9/9 [==============================] - 0s 19ms/step - loss: 0.7496 - accuracy: 0.7143 - val_loss: 2.7807 - val_accuracy: 0.1940\n",
            "Epoch 40/100\n",
            "9/9 [==============================] - 0s 29ms/step - loss: 0.8610 - accuracy: 0.6579 - val_loss: 3.0687 - val_accuracy: 0.1642\n",
            "Epoch 41/100\n",
            "9/9 [==============================] - 1s 64ms/step - loss: 0.8588 - accuracy: 0.6429 - val_loss: 2.5684 - val_accuracy: 0.1791\n",
            "Epoch 42/100\n",
            "9/9 [==============================] - 0s 49ms/step - loss: 0.8215 - accuracy: 0.6541 - val_loss: 2.5541 - val_accuracy: 0.1791\n",
            "Epoch 43/100\n",
            "9/9 [==============================] - 0s 24ms/step - loss: 0.8332 - accuracy: 0.6767 - val_loss: 2.5297 - val_accuracy: 0.1642\n",
            "Epoch 44/100\n",
            "9/9 [==============================] - 0s 18ms/step - loss: 0.8946 - accuracy: 0.6203 - val_loss: 2.1337 - val_accuracy: 0.0597\n",
            "Epoch 45/100\n",
            "9/9 [==============================] - 0s 20ms/step - loss: 0.8173 - accuracy: 0.7030 - val_loss: 2.4139 - val_accuracy: 0.1493\n",
            "Epoch 46/100\n",
            "9/9 [==============================] - 0s 17ms/step - loss: 1.0453 - accuracy: 0.6090 - val_loss: 2.4721 - val_accuracy: 0.1791\n",
            "Epoch 47/100\n",
            "9/9 [==============================] - 0s 18ms/step - loss: 0.9812 - accuracy: 0.5827 - val_loss: 2.2845 - val_accuracy: 0.1791\n",
            "Epoch 48/100\n",
            "9/9 [==============================] - 0s 18ms/step - loss: 0.8129 - accuracy: 0.6729 - val_loss: 2.2021 - val_accuracy: 0.1791\n",
            "Epoch 49/100\n",
            "9/9 [==============================] - 0s 19ms/step - loss: 0.8003 - accuracy: 0.6692 - val_loss: 2.5084 - val_accuracy: 0.1791\n",
            "Epoch 50/100\n",
            "9/9 [==============================] - 0s 19ms/step - loss: 0.7023 - accuracy: 0.7105 - val_loss: 2.4843 - val_accuracy: 0.1940\n",
            "Epoch 51/100\n",
            "9/9 [==============================] - 0s 19ms/step - loss: 0.7650 - accuracy: 0.6955 - val_loss: 2.3647 - val_accuracy: 0.0896\n",
            "Epoch 52/100\n",
            "9/9 [==============================] - 0s 19ms/step - loss: 0.7934 - accuracy: 0.7030 - val_loss: 2.6485 - val_accuracy: 0.1493\n",
            "Epoch 53/100\n",
            "9/9 [==============================] - 0s 19ms/step - loss: 0.6877 - accuracy: 0.7481 - val_loss: 2.7271 - val_accuracy: 0.1791\n",
            "Epoch 54/100\n",
            "9/9 [==============================] - 0s 17ms/step - loss: 0.7012 - accuracy: 0.7068 - val_loss: 2.5766 - val_accuracy: 0.1045\n",
            "Epoch 55/100\n",
            "9/9 [==============================] - 0s 18ms/step - loss: 0.7952 - accuracy: 0.6729 - val_loss: 2.7550 - val_accuracy: 0.0597\n",
            "Epoch 56/100\n",
            "9/9 [==============================] - 0s 18ms/step - loss: 0.7840 - accuracy: 0.6842 - val_loss: 3.0195 - val_accuracy: 0.1940\n",
            "Epoch 57/100\n",
            "9/9 [==============================] - 0s 17ms/step - loss: 0.7782 - accuracy: 0.6767 - val_loss: 2.7417 - val_accuracy: 0.1493\n",
            "Epoch 58/100\n",
            "9/9 [==============================] - 0s 19ms/step - loss: 0.7212 - accuracy: 0.6992 - val_loss: 2.6226 - val_accuracy: 0.1343\n",
            "Epoch 59/100\n",
            "9/9 [==============================] - 0s 18ms/step - loss: 0.7029 - accuracy: 0.7331 - val_loss: 2.4700 - val_accuracy: 0.1194\n",
            "Epoch 60/100\n",
            "9/9 [==============================] - 0s 17ms/step - loss: 0.7415 - accuracy: 0.6767 - val_loss: 2.6404 - val_accuracy: 0.1194\n",
            "Epoch 61/100\n",
            "9/9 [==============================] - 0s 18ms/step - loss: 0.7333 - accuracy: 0.6917 - val_loss: 2.5950 - val_accuracy: 0.1045\n",
            "Epoch 62/100\n",
            "9/9 [==============================] - 0s 18ms/step - loss: 0.7352 - accuracy: 0.7368 - val_loss: 2.9878 - val_accuracy: 0.1194\n",
            "Epoch 63/100\n",
            "9/9 [==============================] - 0s 18ms/step - loss: 0.7875 - accuracy: 0.6917 - val_loss: 2.8115 - val_accuracy: 0.1194\n",
            "Epoch 64/100\n",
            "9/9 [==============================] - 0s 18ms/step - loss: 0.6888 - accuracy: 0.7406 - val_loss: 2.6641 - val_accuracy: 0.1194\n",
            "Epoch 65/100\n",
            "9/9 [==============================] - 0s 17ms/step - loss: 0.6630 - accuracy: 0.7368 - val_loss: 2.7434 - val_accuracy: 0.1045\n",
            "Epoch 66/100\n",
            "9/9 [==============================] - 0s 18ms/step - loss: 0.6512 - accuracy: 0.7481 - val_loss: 2.9398 - val_accuracy: 0.1791\n",
            "Epoch 67/100\n",
            "9/9 [==============================] - 0s 18ms/step - loss: 0.8065 - accuracy: 0.7030 - val_loss: 2.8257 - val_accuracy: 0.1045\n",
            "Epoch 68/100\n",
            "9/9 [==============================] - 0s 19ms/step - loss: 0.6969 - accuracy: 0.7030 - val_loss: 3.7398 - val_accuracy: 0.1045\n",
            "Epoch 69/100\n",
            "9/9 [==============================] - 0s 19ms/step - loss: 0.6723 - accuracy: 0.7293 - val_loss: 3.0191 - val_accuracy: 0.1940\n",
            "Epoch 70/100\n",
            "9/9 [==============================] - 0s 24ms/step - loss: 0.7424 - accuracy: 0.6955 - val_loss: 2.5299 - val_accuracy: 0.1045\n",
            "Epoch 71/100\n",
            "9/9 [==============================] - 0s 17ms/step - loss: 0.6202 - accuracy: 0.7669 - val_loss: 2.8180 - val_accuracy: 0.1343\n",
            "Epoch 72/100\n",
            "9/9 [==============================] - 0s 14ms/step - loss: 0.6678 - accuracy: 0.7406 - val_loss: 2.8095 - val_accuracy: 0.0896\n",
            "Epoch 73/100\n",
            "9/9 [==============================] - 0s 14ms/step - loss: 0.6742 - accuracy: 0.7105 - val_loss: 2.7382 - val_accuracy: 0.1045\n",
            "Epoch 74/100\n",
            "9/9 [==============================] - 0s 14ms/step - loss: 0.5857 - accuracy: 0.7707 - val_loss: 2.9986 - val_accuracy: 0.1045\n",
            "Epoch 75/100\n",
            "9/9 [==============================] - 0s 13ms/step - loss: 0.6349 - accuracy: 0.7406 - val_loss: 2.9193 - val_accuracy: 0.1791\n",
            "Epoch 76/100\n",
            "9/9 [==============================] - 0s 14ms/step - loss: 0.6981 - accuracy: 0.7030 - val_loss: 3.1693 - val_accuracy: 0.0896\n",
            "Epoch 77/100\n",
            "9/9 [==============================] - 0s 14ms/step - loss: 0.6154 - accuracy: 0.7519 - val_loss: 3.3162 - val_accuracy: 0.0896\n",
            "Epoch 78/100\n",
            "9/9 [==============================] - 0s 14ms/step - loss: 0.5456 - accuracy: 0.7970 - val_loss: 3.3627 - val_accuracy: 0.1045\n",
            "Epoch 79/100\n",
            "9/9 [==============================] - 0s 13ms/step - loss: 0.5694 - accuracy: 0.7782 - val_loss: 2.8646 - val_accuracy: 0.1642\n",
            "Epoch 80/100\n",
            "9/9 [==============================] - 0s 14ms/step - loss: 0.5997 - accuracy: 0.7519 - val_loss: 2.6136 - val_accuracy: 0.1194\n",
            "Epoch 81/100\n",
            "9/9 [==============================] - 0s 13ms/step - loss: 0.5627 - accuracy: 0.7820 - val_loss: 3.7632 - val_accuracy: 0.0896\n",
            "Epoch 82/100\n",
            "9/9 [==============================] - 0s 14ms/step - loss: 0.5823 - accuracy: 0.7368 - val_loss: 2.7870 - val_accuracy: 0.1343\n",
            "Epoch 83/100\n",
            "9/9 [==============================] - 0s 14ms/step - loss: 0.7291 - accuracy: 0.7068 - val_loss: 2.8804 - val_accuracy: 0.1045\n",
            "Epoch 84/100\n",
            "9/9 [==============================] - 0s 13ms/step - loss: 0.6233 - accuracy: 0.7594 - val_loss: 2.7063 - val_accuracy: 0.1493\n",
            "Epoch 85/100\n",
            "9/9 [==============================] - 0s 13ms/step - loss: 0.5202 - accuracy: 0.8008 - val_loss: 2.7216 - val_accuracy: 0.1791\n",
            "Epoch 86/100\n",
            "9/9 [==============================] - 0s 15ms/step - loss: 0.5542 - accuracy: 0.7556 - val_loss: 2.9220 - val_accuracy: 0.1045\n",
            "Epoch 87/100\n",
            "9/9 [==============================] - 0s 13ms/step - loss: 0.6002 - accuracy: 0.7556 - val_loss: 2.9561 - val_accuracy: 0.1493\n",
            "Epoch 88/100\n",
            "9/9 [==============================] - 0s 14ms/step - loss: 0.5920 - accuracy: 0.7632 - val_loss: 3.1507 - val_accuracy: 0.1343\n",
            "Epoch 89/100\n",
            "9/9 [==============================] - 0s 14ms/step - loss: 0.6452 - accuracy: 0.7331 - val_loss: 3.1103 - val_accuracy: 0.0896\n",
            "Epoch 90/100\n",
            "9/9 [==============================] - 0s 12ms/step - loss: 0.5619 - accuracy: 0.8008 - val_loss: 3.5910 - val_accuracy: 0.1791\n",
            "Epoch 91/100\n",
            "9/9 [==============================] - 0s 13ms/step - loss: 0.5562 - accuracy: 0.7970 - val_loss: 3.5658 - val_accuracy: 0.0448\n",
            "Epoch 92/100\n",
            "9/9 [==============================] - 0s 12ms/step - loss: 0.5009 - accuracy: 0.7857 - val_loss: 3.5556 - val_accuracy: 0.0746\n",
            "Epoch 93/100\n",
            "9/9 [==============================] - 0s 14ms/step - loss: 0.5666 - accuracy: 0.7556 - val_loss: 2.8277 - val_accuracy: 0.1493\n",
            "Epoch 94/100\n",
            "9/9 [==============================] - 0s 14ms/step - loss: 0.6424 - accuracy: 0.7444 - val_loss: 3.1251 - val_accuracy: 0.1791\n",
            "Epoch 95/100\n",
            "9/9 [==============================] - 0s 13ms/step - loss: 0.5580 - accuracy: 0.7632 - val_loss: 3.0314 - val_accuracy: 0.1045\n",
            "Epoch 96/100\n",
            "9/9 [==============================] - 0s 14ms/step - loss: 0.6126 - accuracy: 0.7444 - val_loss: 2.9631 - val_accuracy: 0.0896\n",
            "Epoch 97/100\n",
            "9/9 [==============================] - 0s 12ms/step - loss: 0.5392 - accuracy: 0.7857 - val_loss: 3.2607 - val_accuracy: 0.1045\n",
            "Epoch 98/100\n",
            "9/9 [==============================] - 0s 12ms/step - loss: 0.4461 - accuracy: 0.8346 - val_loss: 3.0240 - val_accuracy: 0.1343\n",
            "Epoch 99/100\n",
            "9/9 [==============================] - 0s 14ms/step - loss: 0.5381 - accuracy: 0.7707 - val_loss: 3.6462 - val_accuracy: 0.0896\n",
            "Epoch 100/100\n",
            "9/9 [==============================] - 0s 14ms/step - loss: 0.5010 - accuracy: 0.7895 - val_loss: 2.8995 - val_accuracy: 0.1642\n"
          ]
        },
        {
          "output_type": "display_data",
          "data": {
            "text/plain": [
              "<Figure size 1200x500 with 2 Axes>"
            ],
            "image/png": "[encoded data removed]"
          },
          "metadata": {}
        }
      ]
    },
    {
      "cell_type": "code",
      "source": [],
      "metadata": {
        "id": "RkwQaq8Posye"
      },
      "execution_count": null,
      "outputs": []
    }
  ]
}